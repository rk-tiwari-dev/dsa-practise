{
 "cells": [
  {
   "cell_type": "code",
   "execution_count": 40,
   "metadata": {},
   "outputs": [
    {
     "name": "stdout",
     "output_type": "stream",
     "text": [
      "Element 40 found in the BST.\n",
      "\n",
      "Inorder Traversal of the BST:\n",
      "20 30 40 50 60 70 80 Maximum value in BST is: 80\n"
     ]
    }
   ],
   "source": [
    "class Node:\n",
    "    def __init__(self, key):\n",
    "        self.left = None\n",
    "        self.right = None\n",
    "        self.value = key\n",
    "\n",
    "\n",
    "class BinarySearchTree:\n",
    "    def __init__(self):\n",
    "        self.root = None\n",
    "\n",
    "    # Insert a new node with the given key\n",
    "    def insert(self, key):\n",
    "        if self.root is None:\n",
    "            self.root = Node(key)\n",
    "        else:\n",
    "            self._insert_recursive(self.root, key)\n",
    "\n",
    "    def _insert_recursive(self, current_node, key):\n",
    "        if key < current_node.value:\n",
    "            if current_node.left is None:\n",
    "                current_node.left = Node(key)\n",
    "            else:\n",
    "                self._insert_recursive(current_node.left, key)\n",
    "        else:\n",
    "            if current_node.right is None:\n",
    "                current_node.right = Node(key)\n",
    "            else:\n",
    "                self._insert_recursive(current_node.right, key)\n",
    "\n",
    "    # Search for a node with a specific key\n",
    "    def search(self, key):\n",
    "        return self._search_recursive(self.root, key)\n",
    "\n",
    "    def _search_recursive(self, current_node, key):\n",
    "        if current_node is None or current_node.value == key:\n",
    "            return current_node\n",
    "\n",
    "        if key < current_node.value:\n",
    "            return self._search_recursive(current_node.left, key)\n",
    "        return self._search_recursive(current_node.right, key)\n",
    "\n",
    "    # Inorder traversal (left-root-right)\n",
    "    def inorder_traversal(self, node):\n",
    "        if node:\n",
    "            self.inorder_traversal(node.left)\n",
    "            print(node.value, end=\" \")\n",
    "            self.inorder_traversal(node.right)\n",
    "\n",
    "# Non-recursive function to find the max element in BST\n",
    "def find_max_non_recursive(root):\n",
    "    if root is None:\n",
    "        return None\n",
    "    current = root\n",
    "    while current.right is not None:\n",
    "        current = current.right\n",
    "    print(\"Maximum value in BST is:\", current.value)\n",
    "    return current.value\n",
    "\n",
    "\n",
    "def find_min(root):\n",
    "    if root is None:\n",
    "        return None\n",
    "    if root.left is None:\n",
    "        print(\"Minimum value in BST is:\", root.value)\n",
    "        return root.value\n",
    "    return find_min(root.left)\n",
    "\n",
    "\n",
    "# Usage example\n",
    "if __name__ == \"__main__\":\n",
    "    bst = BinarySearchTree()\n",
    "    # Insert elements into BST\n",
    "    elements = [50, 30, 20, 40, 70, 60, 80]\n",
    "    for element in elements:\n",
    "        bst.insert(element)\n",
    "\n",
    "    # Search for an element\n",
    "    if bst.search(40):\n",
    "        print(\"Element 40 found in the BST.\")\n",
    "    else:\n",
    "        print(\"Element 40 not found in the BST.\")\n",
    "\n",
    "    # Print inorder traversal (this will print the elements in sorted order)\n",
    "    print(\"\\nInorder Traversal of the BST:\")\n",
    "    bst.inorder_traversal(bst.root)\n",
    "\n",
    "    # Find the maximum element in the BST using non-recursive method\n",
    "    find_max_non_recursive(bst.root)"
   ]
  },
  {
   "cell_type": "code",
   "execution_count": 43,
   "metadata": {},
   "outputs": [
    {
     "name": "stdout",
     "output_type": "stream",
     "text": [
      "True\n"
     ]
    }
   ],
   "source": [
    "# search an elemnt in BST\n",
    "def search(root, key):\n",
    "    if root is None:\n",
    "        return False\n",
    "    if root.value == key:\n",
    "        return True\n",
    "    if key < root.value:\n",
    "        return search(root.left, key)\n",
    "    return search(root.right, key)\n",
    "\n",
    "# Run the search function\n",
    "\n",
    "# non recursive search in BST\n",
    "def search(root, key):\n",
    "    if root is None:\n",
    "        return False\n",
    "    current = root\n",
    "    while current is not None:\n",
    "        if current.value == key:\n",
    "            return True\n",
    "        if key < current.value:\n",
    "            current = current.left\n",
    "        else:\n",
    "            current = current.right\n",
    "    return False\n",
    "\n",
    "print(search(bst.root, 40))  # Output: True"
   ]
  },
  {
   "cell_type": "code",
   "execution_count": 44,
   "metadata": {},
   "outputs": [
    {
     "name": "stdout",
     "output_type": "stream",
     "text": [
      "7\n"
     ]
    }
   ],
   "source": [
    "# size of binary tree\n",
    "def size(root):\n",
    "    if root is None:\n",
    "        return 0\n",
    "    return size(root.left) + 1 + size(root.right)\n",
    "\n",
    "# Run the size function\n",
    "print(size(bst.root))  # Output: 7\n"
   ]
  },
  {
   "cell_type": "code",
   "execution_count": 45,
   "metadata": {},
   "outputs": [
    {
     "name": "stdout",
     "output_type": "stream",
     "text": [
      "2\n"
     ]
    }
   ],
   "source": [
    "# height of binary tree\n",
    "def height(root):\n",
    "    if root is None:\n",
    "        return -1\n",
    "    left_height = height(root.left)\n",
    "    right_height = height(root.right)\n",
    "    return 1 + max(left_height, right_height)\n",
    "\n",
    "# non recursive height of binary tree\n",
    "\n",
    "def height(root):\n",
    "    if root is None:\n",
    "        return -1\n",
    "    q = []\n",
    "    q.append(root)\n",
    "    height = -1\n",
    "    while True:\n",
    "        node_count = len(q)\n",
    "        if node_count == 0:\n",
    "            return height\n",
    "        height += 1\n",
    "        while node_count > 0:\n",
    "            node = q.pop(0)\n",
    "            if node.left is not None:\n",
    "                q.append(node.left)\n",
    "            if node.right is not None:\n",
    "                q.append(node.right)\n",
    "            node_count -= 1\n",
    "            \n",
    "\n",
    "# Run the height function\n",
    "print(height(bst.root))  # Output: 2\n",
    "            "
   ]
  },
  {
   "cell_type": "code",
   "execution_count": 46,
   "metadata": {},
   "outputs": [
    {
     "name": "stdout",
     "output_type": "stream",
     "text": [
      "30 40 50 60 70 80 "
     ]
    }
   ],
   "source": [
    "# delete a node in BST\n",
    "def delete_node(root, key):\n",
    "    if root is None:\n",
    "        return root\n",
    "    if key < root.value:\n",
    "        root.left = delete_node(root.left, key)\n",
    "    elif key > root.value:\n",
    "        root.right = delete_node(root.right, key)\n",
    "    else:\n",
    "        if root.left is None:\n",
    "            return root.right\n",
    "        elif root.right is None:\n",
    "            return root.left\n",
    "        root.value = find_min(root.right)\n",
    "        root.right = delete_node(root.right, root.value)\n",
    "    return root\n",
    "\n",
    "# Run the delete_node function\n",
    "bst.root = delete_node(bst.root, 20)\n",
    "bst.inorder_traversal(bst.root)  # Output: 30 40 50 60 70 80\n",
    "\n",
    "# delete a node in BST\n",
    "         \n",
    "         \n",
    "         "
   ]
  },
  {
   "cell_type": "code",
   "execution_count": 47,
   "metadata": {},
   "outputs": [
    {
     "name": "stdout",
     "output_type": "stream",
     "text": [
      "80\n"
     ]
    }
   ],
   "source": [
    "# find the deepest node in BST\n",
    "def deepest_node(root):\n",
    "    if root is None:\n",
    "        return None\n",
    "    q = []\n",
    "    q.append(root)\n",
    "    while len(q) > 0:\n",
    "        node = q.pop(0)\n",
    "        if node.left is not None:\n",
    "            q.append(node.left)\n",
    "        if node.right is not None:\n",
    "            q.append(node.right)\n",
    "    return node\n",
    "\n",
    "\n",
    "# Run the deepest_node function\n",
    "print(deepest_node(bst.root).value)  # Output: 80\n"
   ]
  },
  {
   "cell_type": "code",
   "execution_count": 48,
   "metadata": {},
   "outputs": [
    {
     "name": "stdout",
     "output_type": "stream",
     "text": [
      "30 40 50 60 70 80 "
     ]
    }
   ],
   "source": [
    "# in oerder traversal of BST\n",
    "\n",
    "def inorder_traversal(root):\n",
    "    if root:\n",
    "        inorder_traversal(root.left)\n",
    "        print(root.value, end=\" \")\n",
    "        inorder_traversal(root.right)\n",
    "        \n",
    "        \n",
    "\n",
    "# Run the inorder_traversal function\n",
    "\n",
    "inorder_traversal(bst.root)  # Output: 30 40 50 60 70 80        "
   ]
  },
  {
   "cell_type": "code",
   "execution_count": 49,
   "metadata": {},
   "outputs": [
    {
     "name": "stdout",
     "output_type": "stream",
     "text": [
      "40 30 60 80 70 50 "
     ]
    }
   ],
   "source": [
    "# post order traversal of BST\n",
    "def postorder_traversal(root):\n",
    "    if root:\n",
    "        postorder_traversal(root.left)\n",
    "        postorder_traversal(root.right)\n",
    "        print(root.value, end=\" \")\n",
    "        \n",
    "# Run the postorder_traversal function\n",
    "\n",
    "postorder_traversal(bst.root)  # Output: 40 30 60 80 70 50        "
   ]
  },
  {
   "cell_type": "code",
   "execution_count": null,
   "metadata": {},
   "outputs": [],
   "source": []
  },
  {
   "cell_type": "code",
   "execution_count": null,
   "metadata": {},
   "outputs": [],
   "source": []
  },
  {
   "cell_type": "code",
   "execution_count": null,
   "metadata": {},
   "outputs": [],
   "source": []
  },
  {
   "cell_type": "code",
   "execution_count": null,
   "metadata": {},
   "outputs": [],
   "source": []
  }
 ],
 "metadata": {
  "kernelspec": {
   "display_name": "Python 3",
   "language": "python",
   "name": "python3"
  },
  "language_info": {
   "codemirror_mode": {
    "name": "ipython",
    "version": 3
   },
   "file_extension": ".py",
   "mimetype": "text/x-python",
   "name": "python",
   "nbconvert_exporter": "python",
   "pygments_lexer": "ipython3",
   "version": "3.10.10"
  }
 },
 "nbformat": 4,
 "nbformat_minor": 2
}
