{
 "cells": [
  {
   "cell_type": "code",
   "execution_count": 1,
   "metadata": {},
   "outputs": [
    {
     "name": "stdout",
     "output_type": "stream",
     "text": [
      "0b110\n",
      "0b111\n",
      "0b110\n",
      "0b111\n",
      "0b1\n",
      "-0b111\n",
      "-0b1000\n"
     ]
    }
   ],
   "source": [
    "print(bin(6))\n",
    "print(bin(7))\n",
    "\n",
    "print(bin(6 & 7))\n",
    "print(bin(6 | 7))\n",
    "print(bin(6 ^ 7))\n",
    "print(bin(~6))\n",
    "print(bin(~7))\n",
    "print(bin(6 << 1))\n"
   ]
  }
 ],
 "metadata": {
  "kernelspec": {
   "display_name": "Python 3",
   "language": "python",
   "name": "python3"
  },
  "language_info": {
   "codemirror_mode": {
    "name": "ipython",
    "version": 3
   },
   "file_extension": ".py",
   "mimetype": "text/x-python",
   "name": "python",
   "nbconvert_exporter": "python",
   "pygments_lexer": "ipython3",
   "version": "3.10.10"
  }
 },
 "nbformat": 4,
 "nbformat_minor": 2
}
