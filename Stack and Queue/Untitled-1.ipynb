{
 "cells": [
  {
   "cell_type": "code",
   "execution_count": 5,
   "metadata": {},
   "outputs": [
    {
     "name": "stdout",
     "output_type": "stream",
     "text": [
      "True\n",
      "3\n",
      "False\n",
      "8.4\n",
      "True\n",
      "2\n",
      "['dog', 4]\n"
     ]
    }
   ],
   "source": [
    "class queue:\n",
    "    def __init__(self):\n",
    "        self.items = []\n",
    "    def isEmpty(self):\n",
    "        return self.items == []\n",
    "    def addFront(self, item):\n",
    "        self.items.append(item)\n",
    "    def addRear(self, item):\n",
    "        self.items.insert(0, item)\n",
    "    def removeFront(self):\n",
    "        return self.items.pop()\n",
    "    def removeRear(self):\n",
    "        return self.items.pop(0)\n",
    "    def size(self):\n",
    "        return len(self.items)\n",
    "    \n",
    "d = queue()\n",
    "print(d.isEmpty())\n",
    "\n",
    "d.addFront(4)\n",
    "d.addRear('dog')\n",
    "d.addFront(True)\n",
    "print(d.size())\n",
    "print(d.isEmpty())\n",
    "d.addRear(8.4)\n",
    "print(d.removeRear())\n",
    "print(d.removeFront())\n",
    "print(d.size())\n",
    "print(d.items)\n",
    "\n",
    "#all the operations are O(1) time complexity"
   ]
  },
  {
   "cell_type": "code",
   "execution_count": 6,
   "metadata": {},
   "outputs": [
    {
     "name": "stdout",
     "output_type": "stream",
     "text": [
      "[1, 2, 3, 4, 5]\n",
      "[5, 4, 3, 2, 1]\n"
     ]
    }
   ],
   "source": [
    "# we need to revese the que using stack\n",
    "\n",
    "def reverseQueue(queue):\n",
    "    stack = []\n",
    "    while not queue.isEmpty():\n",
    "        stack.append(queue.removeRear())\n",
    "    while len(stack) != 0:\n",
    "        queue.addFront(stack.pop())\n",
    "    return queue\n",
    "\n",
    "#create a queue so that we can reverse it\n",
    "q = queue()\n",
    "q.addFront(1)\n",
    "q.addFront(2)\n",
    "q.addFront(3)\n",
    "q.addFront(4)\n",
    "q.addFront(5)\n",
    "print(q.items)\n",
    "reverseQueue(q)\n",
    "print(q.items)"
   ]
  },
  {
   "cell_type": "code",
   "execution_count": null,
   "metadata": {},
   "outputs": [],
   "source": [
    "# implement qeue using two stacks\n",
    "\n",
    "def queueUsingStacks():\n",
    "    class Queue:\n",
    "        def __init__(self):\n",
    "            self.instack = []\n",
    "            self.outstack = []\n",
    "        def enqueue(self, element):\n",
    "            self.instack.append(element)\n",
    "        def dequeue(self):\n",
    "            if not self.outstack:\n",
    "                while self.instack:\n",
    "                    self.outstack.append(self.instack.pop())\n",
    "            return self.outstack.pop()\n",
    "    return Queue()\n",
    "\n",
    "\n"
   ]
  },
  {
   "cell_type": "code",
   "execution_count": 11,
   "metadata": {},
   "outputs": [
    {
     "name": "stdout",
     "output_type": "stream",
     "text": [
      "<function stackUsingQueues at 0x00000291E6733F40>\n",
      "5\n",
      "4\n",
      "3\n",
      "2\n",
      "1\n"
     ]
    }
   ],
   "source": [
    "# implement stack using two queues\n",
    "\n",
    "def stackUsingQueues():\n",
    "    class Stack:\n",
    "        def __init__(self):\n",
    "            self.queue1 = queue()\n",
    "            self.queue2 = queue()\n",
    "        def push(self, element):\n",
    "            self.queue1.addFront(element)\n",
    "        def pop(self):\n",
    "            while self.queue1.size() > 1:\n",
    "                self.queue2.addFront(self.queue1.removeRear())\n",
    "            element = self.queue1.removeRear()\n",
    "            self.queue1, self.queue2 = self.queue2, self.queue1\n",
    "            return element\n",
    "    return Stack()\n",
    "\n",
    "\n",
    "s = stackUsingQueues()\n",
    "s.push(1)\n",
    "s.push(2)\n",
    "s.push(3)\n",
    "s.push(4)\n",
    "s.push(5)\n",
    "print(stackUsingQueues)\n",
    "print(s.pop())\n",
    "print(s.pop())\n",
    "print(s.pop())\n",
    "print(s.pop())\n",
    "print(s.pop())\n"
   ]
  },
  {
   "cell_type": "code",
   "execution_count": 12,
   "metadata": {},
   "outputs": [
    {
     "name": "stdout",
     "output_type": "stream",
     "text": [
      "5\n",
      "4\n"
     ]
    }
   ],
   "source": [
    "# implement stack using one queue\n",
    "\n",
    "def stackUsingOneQueue():\n",
    "    class Stack:\n",
    "        def __init__(self):\n",
    "            self.queue = queue()\n",
    "        def push(self, element):\n",
    "            self.queue.addFront(element)\n",
    "            for i in range(self.queue.size()-1):\n",
    "                self.queue.addFront(self.queue.removeRear())\n",
    "        def pop(self):\n",
    "            return self.queue.removeRear()\n",
    "    return Stack()\n",
    "\n",
    "\n",
    "s = stackUsingOneQueue()\n",
    "s.push(1)\n",
    "s.push(2)\n",
    "s.push(3)\n",
    "s.push(4)\n",
    "s.push(5)\n",
    "print(s.pop())\n",
    "print(s.pop())"
   ]
  },
  {
   "cell_type": "code",
   "execution_count": null,
   "metadata": {},
   "outputs": [],
   "source": [
    "# sliding window using priority queue   "
   ]
  },
  {
   "cell_type": "code",
   "execution_count": null,
   "metadata": {},
   "outputs": [],
   "source": [
    " # recent maximum element in the window"
   ]
  },
  {
   "cell_type": "code",
   "execution_count": null,
   "metadata": {},
   "outputs": [],
   "source": [
    "# recent call count"
   ]
  },
  {
   "cell_type": "code",
   "execution_count": null,
   "metadata": {},
   "outputs": [],
   "source": []
  },
  {
   "cell_type": "code",
   "execution_count": null,
   "metadata": {},
   "outputs": [],
   "source": []
  }
 ],
 "metadata": {
  "kernelspec": {
   "display_name": "Python 3",
   "language": "python",
   "name": "python3"
  },
  "language_info": {
   "codemirror_mode": {
    "name": "ipython",
    "version": 3
   },
   "file_extension": ".py",
   "mimetype": "text/x-python",
   "name": "python",
   "nbconvert_exporter": "python",
   "pygments_lexer": "ipython3",
   "version": "3.10.10"
  }
 },
 "nbformat": 4,
 "nbformat_minor": 2
}
